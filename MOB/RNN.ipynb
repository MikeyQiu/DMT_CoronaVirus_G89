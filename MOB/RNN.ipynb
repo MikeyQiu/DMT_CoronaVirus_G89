{
 "cells": [
  {
   "cell_type": "markdown",
   "metadata": {},
   "source": [
    "# TensorFlow Tutorial #23\n",
    "# Time-Series Prediction\n",
    "\n",
    "by [Magnus Erik Hvass Pedersen](http://www.hvass-labs.org/)\n",
    "/ [GitHub](https://github.com/Hvass-Labs/TensorFlow-Tutorials) / [Videos on YouTube](https://www.youtube.com/playlist?list=PL9Hr9sNUjfsmEu1ZniY0XpHSzl5uihcXZ)"
   ]
  },
  {
   "cell_type": "code",
   "execution_count": 3,
   "metadata": {},
   "outputs": [],
   "source": [
    "%matplotlib inline\n",
    "import matplotlib.pyplot as plt\n",
    "import tensorflow as tf\n",
    "import numpy as np\n",
    "import pandas as pd\n",
    "import os\n",
    "from sklearn.preprocessing import MinMaxScaler"
   ]
  },
  {
   "cell_type": "code",
   "execution_count": 72,
   "metadata": {},
   "outputs": [],
   "source": [
    "from tensorflow.keras.models import Sequential\n",
    "from tensorflow.keras.layers import Input, Dense, GRU, Embedding, LSTM\n",
    "from tensorflow.keras.optimizers import RMSprop\n",
    "from tensorflow.keras.callbacks import EarlyStopping, ModelCheckpoint, TensorBoard, ReduceLROnPlateau\n",
    "from tensorflow.keras.backend import square, mean"
   ]
  },
  {
   "cell_type": "markdown",
   "metadata": {},
   "source": [
    "## 1. Read in data, either combined or single country"
   ]
  },
  {
   "cell_type": "code",
   "execution_count": 5,
   "metadata": {},
   "outputs": [
    {
     "data": {
      "text/html": [
       "<div>\n",
       "<style scoped>\n",
       "    .dataframe tbody tr th:only-of-type {\n",
       "        vertical-align: middle;\n",
       "    }\n",
       "\n",
       "    .dataframe tbody tr th {\n",
       "        vertical-align: top;\n",
       "    }\n",
       "\n",
       "    .dataframe thead th {\n",
       "        text-align: right;\n",
       "    }\n",
       "</style>\n",
       "<table border=\"1\" class=\"dataframe\">\n",
       "  <thead>\n",
       "    <tr style=\"text-align: right;\">\n",
       "      <th></th>\n",
       "      <th>total_cases</th>\n",
       "      <th>new_cases</th>\n",
       "      <th>total_deaths</th>\n",
       "      <th>new_deaths</th>\n",
       "      <th>total_cases_per_million</th>\n",
       "      <th>new_cases_per_million</th>\n",
       "      <th>total_deaths_per_million</th>\n",
       "      <th>new_deaths_per_million</th>\n",
       "      <th>driving</th>\n",
       "      <th>transit</th>\n",
       "      <th>walking</th>\n",
       "    </tr>\n",
       "  </thead>\n",
       "  <tbody>\n",
       "    <tr>\n",
       "      <td>0</td>\n",
       "      <td>128</td>\n",
       "      <td>46</td>\n",
       "      <td>1</td>\n",
       "      <td>1</td>\n",
       "      <td>7.470</td>\n",
       "      <td>2.685</td>\n",
       "      <td>0.058</td>\n",
       "      <td>0.058</td>\n",
       "      <td>105.36</td>\n",
       "      <td>119.53</td>\n",
       "      <td>167.19</td>\n",
       "    </tr>\n",
       "    <tr>\n",
       "      <td>1</td>\n",
       "      <td>188</td>\n",
       "      <td>60</td>\n",
       "      <td>1</td>\n",
       "      <td>0</td>\n",
       "      <td>10.972</td>\n",
       "      <td>3.502</td>\n",
       "      <td>0.058</td>\n",
       "      <td>0.000</td>\n",
       "      <td>91.72</td>\n",
       "      <td>101.40</td>\n",
       "      <td>103.37</td>\n",
       "    </tr>\n",
       "    <tr>\n",
       "      <td>2</td>\n",
       "      <td>265</td>\n",
       "      <td>77</td>\n",
       "      <td>3</td>\n",
       "      <td>2</td>\n",
       "      <td>15.466</td>\n",
       "      <td>4.494</td>\n",
       "      <td>0.175</td>\n",
       "      <td>0.117</td>\n",
       "      <td>97.44</td>\n",
       "      <td>98.01</td>\n",
       "      <td>97.60</td>\n",
       "    </tr>\n",
       "    <tr>\n",
       "      <td>3</td>\n",
       "      <td>321</td>\n",
       "      <td>56</td>\n",
       "      <td>3</td>\n",
       "      <td>0</td>\n",
       "      <td>18.734</td>\n",
       "      <td>3.268</td>\n",
       "      <td>0.175</td>\n",
       "      <td>0.000</td>\n",
       "      <td>94.05</td>\n",
       "      <td>94.36</td>\n",
       "      <td>92.04</td>\n",
       "    </tr>\n",
       "    <tr>\n",
       "      <td>4</td>\n",
       "      <td>382</td>\n",
       "      <td>61</td>\n",
       "      <td>4</td>\n",
       "      <td>1</td>\n",
       "      <td>22.294</td>\n",
       "      <td>3.560</td>\n",
       "      <td>0.233</td>\n",
       "      <td>0.058</td>\n",
       "      <td>92.55</td>\n",
       "      <td>90.51</td>\n",
       "      <td>99.58</td>\n",
       "    </tr>\n",
       "  </tbody>\n",
       "</table>\n",
       "</div>"
      ],
      "text/plain": [
       "   total_cases  new_cases  total_deaths  new_deaths  total_cases_per_million  \\\n",
       "0          128         46             1           1                    7.470   \n",
       "1          188         60             1           0                   10.972   \n",
       "2          265         77             3           2                   15.466   \n",
       "3          321         56             3           0                   18.734   \n",
       "4          382         61             4           1                   22.294   \n",
       "\n",
       "   new_cases_per_million  total_deaths_per_million  new_deaths_per_million  \\\n",
       "0                  2.685                     0.058                   0.058   \n",
       "1                  3.502                     0.058                   0.000   \n",
       "2                  4.494                     0.175                   0.117   \n",
       "3                  3.268                     0.175                   0.000   \n",
       "4                  3.560                     0.233                   0.058   \n",
       "\n",
       "   driving  transit  walking  \n",
       "0   105.36   119.53   167.19  \n",
       "1    91.72   101.40   103.37  \n",
       "2    97.44    98.01    97.60  \n",
       "3    94.05    94.36    92.04  \n",
       "4    92.55    90.51    99.58  "
      ]
     },
     "execution_count": 5,
     "metadata": {},
     "output_type": "execute_result"
    }
   ],
   "source": [
    "df=pd.read_csv(\"output/2ModerateLockdown/full.csv\",header=[0,1])\n",
    "df['Switzer'].head()"
   ]
  },
  {
   "cell_type": "code",
   "execution_count": 582,
   "metadata": {},
   "outputs": [
    {
     "data": {
      "image/png": "[encoded data removed]",
      "text/plain": [
       "<Figure size 432x288 with 1 Axes>"
      ]
     },
     "metadata": {
      "needs_background": "light"
     },
     "output_type": "display_data"
    }
   ],
   "source": [
    "df['Switzerland']['total_cases_per_million'].plot();"
   ]
  },
  {
   "cell_type": "code",
   "execution_count": 7,
   "metadata": {},
   "outputs": [
    {
     "data": {
      "text/plain": [
       "(59, 78)"
      ]
     },
     "execution_count": 7,
     "metadata": {},
     "output_type": "execute_result"
    }
   ],
   "source": [
    "df.values.shape"
   ]
  },
  {
   "cell_type": "markdown",
   "metadata": {},
   "source": [
    "## 2. Select country and index that we would like to predict"
   ]
  },
  {
   "cell_type": "code",
   "execution_count": 640,
   "metadata": {},
   "outputs": [
    {
     "data": {
      "text/html": [
       "<div>\n",
       "<style scoped>\n",
       "    .dataframe tbody tr th:only-of-type {\n",
       "        vertical-align: middle;\n",
       "    }\n",
       "\n",
       "    .dataframe tbody tr th {\n",
       "        vertical-align: top;\n",
       "    }\n",
       "\n",
       "    .dataframe thead th {\n",
       "        text-align: right;\n",
       "    }\n",
       "</style>\n",
       "<table border=\"1\" class=\"dataframe\">\n",
       "  <thead>\n",
       "    <tr style=\"text-align: right;\">\n",
       "      <th></th>\n",
       "      <th>new_cases</th>\n",
       "    </tr>\n",
       "  </thead>\n",
       "  <tbody>\n",
       "    <tr>\n",
       "      <td>54</td>\n",
       "      <td>2337</td>\n",
       "    </tr>\n",
       "    <tr>\n",
       "      <td>55</td>\n",
       "      <td>2055</td>\n",
       "    </tr>\n",
       "    <tr>\n",
       "      <td>56</td>\n",
       "      <td>1737</td>\n",
       "    </tr>\n",
       "    <tr>\n",
       "      <td>57</td>\n",
       "      <td>1018</td>\n",
       "    </tr>\n",
       "    <tr>\n",
       "      <td>58</td>\n",
       "      <td>1144</td>\n",
       "    </tr>\n",
       "  </tbody>\n",
       "</table>\n",
       "</div>"
      ],
      "text/plain": [
       "    new_cases\n",
       "54       2337\n",
       "55       2055\n",
       "56       1737\n",
       "57       1018\n",
       "58       1144"
      ]
     },
     "execution_count": 640,
     "metadata": {},
     "output_type": "execute_result"
    }
   ],
   "source": [
    "target_country = 'Germany'\n",
    "target_names = ['new_cases']\n",
    "df_targets = df[target_country][target_names]\n",
    "df_targets.tail()"
   ]
  },
  {
   "cell_type": "code",
   "execution_count": 641,
   "metadata": {},
   "outputs": [
    {
     "name": "stdout",
     "output_type": "stream",
     "text": [
      "Shape: (59, 78)\n",
      "Shape: (59, 1)\n"
     ]
    }
   ],
   "source": [
    "x_data = df.values[0:]\n",
    "y_data = df_targets.values[0:]\n",
    "print(\"Shape:\", x_data.shape)\n",
    "print(\"Shape:\", y_data.shape)"
   ]
  },
  {
   "cell_type": "markdown",
   "metadata": {},
   "source": [
    "## 3. Construct training and testing dataset"
   ]
  },
  {
   "cell_type": "code",
   "execution_count": 642,
   "metadata": {},
   "outputs": [
    {
     "name": "stdout",
     "output_type": "stream",
     "text": [
      "50 9\n"
     ]
    }
   ],
   "source": [
    "num_data = len(x_data)\n",
    "train_split = 0.85\n",
    "num_train = int(train_split * num_data)\n",
    "num_test = num_data - num_train\n",
    "print(num_train,num_test)\n"
   ]
  },
  {
   "cell_type": "code",
   "execution_count": 643,
   "metadata": {},
   "outputs": [
    {
     "name": "stdout",
     "output_type": "stream",
     "text": [
      "78 1\n"
     ]
    }
   ],
   "source": [
    "x_train = x_data[0:num_train]\n",
    "x_test = x_data[num_train:]\n",
    "y_train = y_data[0:num_train]\n",
    "y_test = y_data[num_train:]\n",
    "num_x_signals = x_data.shape[1]\n",
    "num_y_signals = y_data.shape[1]\n",
    "print(num_x_signals,num_y_signals)"
   ]
  },
  {
   "cell_type": "markdown",
   "metadata": {},
   "source": [
    "## 4. Concert the data to [-1,1]\n",
    "### The neural network works best on values roughly between -1 and 1, so we need to scale the data before it is being input to the neural network. We can use scikit-learn for this."
   ]
  },
  {
   "cell_type": "code",
   "execution_count": 644,
   "metadata": {},
   "outputs": [
    {
     "name": "stdout",
     "output_type": "stream",
     "text": [
      "Min: 0.0\n",
      "Max: 139897.0\n"
     ]
    }
   ],
   "source": [
    "print(\"Min:\", np.min(x_train))\n",
    "print(\"Max:\", np.max(x_train))"
   ]
  },
  {
   "cell_type": "code",
   "execution_count": 645,
   "metadata": {},
   "outputs": [
    {
     "name": "stdout",
     "output_type": "stream",
     "text": [
      "Min: 0.0\n",
      "Max: 1.0000000000000002\n"
     ]
    }
   ],
   "source": [
    "x_scaler = MinMaxScaler()\n",
    "x_train_scaled = x_scaler.fit_transform(x_train)\n",
    "print(\"Min:\", np.min(x_train_scaled))\n",
    "print(\"Max:\", np.max(x_train_scaled))"
   ]
  },
  {
   "cell_type": "code",
   "execution_count": 646,
   "metadata": {},
   "outputs": [
    {
     "name": "stdout",
     "output_type": "stream",
     "text": [
      "(50, 78)\n",
      "(50, 1)\n"
     ]
    }
   ],
   "source": [
    "x_test_scaled = x_scaler.transform(x_test)\n",
    "y_scaler = MinMaxScaler()\n",
    "y_train_scaled = y_scaler.fit_transform(y_train)\n",
    "y_test_scaled = y_scaler.transform(y_test)\n",
    "print(x_train_scaled.shape)\n",
    "print(y_train_scaled.shape)"
   ]
  },
  {
   "cell_type": "markdown",
   "metadata": {},
   "source": [
    "## 5. batch generator "
   ]
  },
  {
   "cell_type": "code",
   "execution_count": 647,
   "metadata": {},
   "outputs": [],
   "source": [
    "def batch_generator(batch_size, sequence_length):\n",
    "    \"\"\"\n",
    "    Generator function for creating random batches of training-data.\n",
    "    \"\"\"\n",
    "\n",
    "    # Infinite loop.\n",
    "    while True:\n",
    "        # Allocate a new array for the batch of input-signals.\n",
    "        x_shape = (batch_size, sequence_length, num_x_signals)\n",
    "        x_batch = np.zeros(shape=x_shape, dtype=np.float16)\n",
    "\n",
    "        # Allocate a new array for the batch of output-signals.\n",
    "        y_shape = (batch_size, sequence_length, num_y_signals)\n",
    "        y_batch = np.zeros(shape=y_shape, dtype=np.float16)\n",
    "\n",
    "        # Fill the batch with random sequences of data.\n",
    "        for i in range(batch_size):\n",
    "            # Get a random start-index.\n",
    "            # This points somewhere into the training-data.\n",
    "            idx = np.random.randint(num_train - sequence_length)\n",
    "            \n",
    "            # Copy the sequences of data starting at this index.\n",
    "            x_batch[i] = x_train_scaled[idx:idx+sequence_length]\n",
    "            y_batch[i] = y_train_scaled[idx:idx+sequence_length]\n",
    "        \n",
    "        yield (x_batch, y_batch)"
   ]
  },
  {
   "cell_type": "code",
   "execution_count": 648,
   "metadata": {},
   "outputs": [
    {
     "name": "stdout",
     "output_type": "stream",
     "text": [
      "(10, 7, 78)\n",
      "(10, 7, 1)\n"
     ]
    }
   ],
   "source": [
    "batch_size = 10\n",
    "sequence_length = 7\n",
    "generator = batch_generator(batch_size=batch_size,\n",
    "                            sequence_length=sequence_length)\n",
    "x_batch, y_batch = next(generator)\n",
    "print(x_batch.shape)\n",
    "print(y_batch.shape)"
   ]
  },
  {
   "cell_type": "code",
   "execution_count": 649,
   "metadata": {},
   "outputs": [
    {
     "data": {
      "text/plain": [
       "[<matplotlib.lines.Line2D at 0x1d095ba910>]"
      ]
     },
     "execution_count": 649,
     "metadata": {},
     "output_type": "execute_result"
    },
    {
     "data": {
      "image/png": "[encoded data removed]",
      "text/plain": [
       "<Figure size 432x288 with 1 Axes>"
      ]
     },
     "metadata": {
      "needs_background": "light"
     },
     "output_type": "display_data"
    }
   ],
   "source": [
    "batch = 0   # First sequence in the batch.\n",
    "signal = 0  # First signal from the 20 input-signals.\n",
    "seq = x_batch[batch, :, signal]\n",
    "plt.plot(seq)\n",
    "seq = y_batch[batch, :, signal]\n",
    "plt.plot(seq)"
   ]
  },
  {
   "cell_type": "code",
   "execution_count": 650,
   "metadata": {},
   "outputs": [],
   "source": [
    "validation_data = (np.expand_dims(x_test_scaled, axis=0),\n",
    "                   np.expand_dims(y_test_scaled, axis=0))"
   ]
  },
  {
   "cell_type": "markdown",
   "metadata": {},
   "source": [
    "## 6. Constructing model"
   ]
  },
  {
   "cell_type": "code",
   "execution_count": 651,
   "metadata": {},
   "outputs": [],
   "source": [
    "model = Sequential()\n",
    "model.add(GRU(units=64,\n",
    "              return_sequences=True,\n",
    "              input_shape=(None, num_x_signals,)))\n",
    "model.add(Dense(num_y_signals, activation='linear'))"
   ]
  },
  {
   "cell_type": "code",
   "execution_count": 652,
   "metadata": {},
   "outputs": [],
   "source": [
    "warmup_steps = 3\n",
    "def loss_mse_warmup(y_true, y_pred):\n",
    "    \"\"\"\n",
    "    Calculate the Mean Squared Error between y_true and y_pred,\n",
    "    but ignore the beginning \"warmup\" part of the sequences.\n",
    "    \n",
    "    y_true is the desired output.\n",
    "    y_pred is the model's output.\n",
    "    \"\"\"\n",
    "\n",
    "    # The shape of both input tensors are:\n",
    "    # [batch_size, sequence_length, num_y_signals].\n",
    "\n",
    "    # Ignore the \"warmup\" parts of the sequences\n",
    "    # by taking slices of the tensors.\n",
    "    y_true_slice = y_true[:, warmup_steps:, :]\n",
    "    y_pred_slice = y_pred[:, warmup_steps:, :]\n",
    "\n",
    "    # These sliced tensors both have this shape:\n",
    "    # [batch_size, sequence_length - warmup_steps, num_y_signals]\n",
    "\n",
    "    # Calculat the Mean Squared Error and use it as loss.\n",
    "    mse = mean(square(y_true_slice - y_pred_slice))\n",
    "    \n",
    "    return mse"
   ]
  },
  {
   "cell_type": "code",
   "execution_count": 653,
   "metadata": {},
   "outputs": [
    {
     "name": "stdout",
     "output_type": "stream",
     "text": [
      "Model: \"sequential_58\"\n",
      "_________________________________________________________________\n",
      "Layer (type)                 Output Shape              Param #   \n",
      "=================================================================\n",
      "gru_38 (GRU)                 (None, None, 64)          27648     \n",
      "_________________________________________________________________\n",
      "dense_56 (Dense)             (None, None, 1)           65        \n",
      "=================================================================\n",
      "Total params: 27,713\n",
      "Trainable params: 27,713\n",
      "Non-trainable params: 0\n",
      "_________________________________________________________________\n"
     ]
    }
   ],
   "source": [
    "optimizer = RMSprop(lr=1e-3)\n",
    "model.compile(loss=loss_mse_warmup, optimizer=optimizer)\n",
    "model.summary()"
   ]
  },
  {
   "cell_type": "code",
   "execution_count": 654,
   "metadata": {},
   "outputs": [],
   "source": [
    "path_checkpoint = '30checkpoint.keras'\n",
    "callback_checkpoint = ModelCheckpoint(filepath=path_checkpoint,\n",
    "                                      monitor='val_loss',\n",
    "                                      verbose=1,\n",
    "                                      save_weights_only=True,\n",
    "                                      save_best_only=True)"
   ]
  },
  {
   "cell_type": "code",
   "execution_count": 655,
   "metadata": {},
   "outputs": [],
   "source": [
    "callback_early_stopping = EarlyStopping(monitor='val_loss',\n",
    "                                        patience=5, verbose=1)\n",
    "callback_tensorboard = TensorBoard(log_dir='./30_logs/',\n",
    "                                   histogram_freq=0,\n",
    "                                   write_graph=False)\n",
    "callback_reduce_lr = ReduceLROnPlateau(monitor='val_loss',\n",
    "                                       factor=0.1,\n",
    "                                       min_lr=1e-4,\n",
    "                                       patience=0,\n",
    "                                       verbose=1)\n",
    "callbacks = [callback_early_stopping,\n",
    "             callback_checkpoint,\n",
    "             callback_tensorboard,\n",
    "             callback_reduce_lr]\n"
   ]
  },
  {
   "cell_type": "markdown",
   "metadata": {},
   "source": [
    "## 7. Training"
   ]
  },
  {
   "cell_type": "code",
   "execution_count": 656,
   "metadata": {},
   "outputs": [
    {
     "name": "stdout",
     "output_type": "stream",
     "text": [
      "Train for 100 steps, validate on 1 samples\n",
      "Epoch 1/20\n",
      " 96/100 [===========================>..] - ETA: 0s - loss: 0.0410\n",
      "Epoch 00001: val_loss improved from inf to 0.06771, saving model to 30checkpoint.keras\n",
      "100/100 [==============================] - 6s 55ms/step - loss: 0.0395 - val_loss: 0.0677\n",
      "Epoch 2/20\n",
      " 99/100 [============================>.] - ETA: 0s - loss: 0.0156\n",
      "Epoch 00002: val_loss did not improve from 0.06771\n",
      "\n",
      "Epoch 00002: ReduceLROnPlateau reducing learning rate to 0.00010000000474974513.\n",
      "100/100 [==============================] - 2s 15ms/step - loss: 0.0155 - val_loss: 0.1116\n",
      "Epoch 3/20\n",
      " 97/100 [============================>.] - ETA: 0s - loss: 0.0013\n",
      "Epoch 00003: val_loss improved from 0.06771 to 0.03999, saving model to 30checkpoint.keras\n",
      "100/100 [==============================] - 2s 16ms/step - loss: 0.0013 - val_loss: 0.0400\n",
      "Epoch 4/20\n",
      " 98/100 [============================>.] - ETA: 0s - loss: 7.7048e-04\n",
      "Epoch 00004: val_loss improved from 0.03999 to 0.03930, saving model to 30checkpoint.keras\n",
      "100/100 [==============================] - 2s 17ms/step - loss: 7.6592e-04 - val_loss: 0.0393\n",
      "Epoch 5/20\n",
      " 97/100 [============================>.] - ETA: 0s - loss: 5.5776e-04\n",
      "Epoch 00005: val_loss did not improve from 0.03930\n",
      "\n",
      "Epoch 00005: ReduceLROnPlateau reducing learning rate to 0.0001.\n",
      "100/100 [==============================] - 2s 17ms/step - loss: 5.5548e-04 - val_loss: 0.0403\n",
      "Epoch 6/20\n",
      " 97/100 [============================>.] - ETA: 0s - loss: 4.1318e-04\n",
      "Epoch 00006: val_loss did not improve from 0.03930\n",
      "100/100 [==============================] - 2s 16ms/step - loss: 4.1058e-04 - val_loss: 0.0497\n",
      "Epoch 7/20\n",
      " 99/100 [============================>.] - ETA: 0s - loss: 3.4526e-04\n",
      "Epoch 00007: val_loss improved from 0.03930 to 0.02917, saving model to 30checkpoint.keras\n",
      "100/100 [==============================] - 2s 17ms/step - loss: 3.4293e-04 - val_loss: 0.0292\n",
      "Epoch 8/20\n",
      " 99/100 [============================>.] - ETA: 0s - loss: 2.7294e-04\n",
      "Epoch 00008: val_loss did not improve from 0.02917\n",
      "100/100 [==============================] - 2s 18ms/step - loss: 2.7163e-04 - val_loss: 0.0337\n",
      "Epoch 9/20\n",
      " 96/100 [===========================>..] - ETA: 0s - loss: 2.2605e-04\n",
      "Epoch 00009: val_loss did not improve from 0.02917\n",
      "100/100 [==============================] - 2s 16ms/step - loss: 2.2111e-04 - val_loss: 0.0320\n",
      "Epoch 10/20\n",
      " 99/100 [============================>.] - ETA: 0s - loss: 2.1472e-04\n",
      "Epoch 00010: val_loss improved from 0.02917 to 0.02420, saving model to 30checkpoint.keras\n",
      "100/100 [==============================] - 2s 15ms/step - loss: 2.1546e-04 - val_loss: 0.0242\n",
      "Epoch 11/20\n",
      " 97/100 [============================>.] - ETA: 0s - loss: 1.8281e-04\n",
      "Epoch 00011: val_loss did not improve from 0.02420\n",
      "100/100 [==============================] - 2s 16ms/step - loss: 1.8793e-04 - val_loss: 0.0296\n",
      "Epoch 12/20\n",
      " 96/100 [===========================>..] - ETA: 0s - loss: 1.5938e-04\n",
      "Epoch 00012: val_loss did not improve from 0.02420\n",
      "100/100 [==============================] - 2s 16ms/step - loss: 1.7078e-04 - val_loss: 0.0409\n",
      "Epoch 13/20\n",
      " 96/100 [===========================>..] - ETA: 0s - loss: 1.5910e-04\n",
      "Epoch 00013: val_loss did not improve from 0.02420\n",
      "100/100 [==============================] - 2s 16ms/step - loss: 1.5383e-04 - val_loss: 0.0330\n",
      "Epoch 14/20\n",
      " 98/100 [============================>.] - ETA: 0s - loss: 1.5380e-04\n",
      "Epoch 00014: val_loss did not improve from 0.02420\n",
      "100/100 [==============================] - 2s 18ms/step - loss: 1.5184e-04 - val_loss: 0.0318\n",
      "Epoch 15/20\n",
      " 98/100 [============================>.] - ETA: 0s - loss: 1.5525e-04\n",
      "Epoch 00015: val_loss did not improve from 0.02420\n",
      "100/100 [==============================] - 2s 16ms/step - loss: 1.5522e-04 - val_loss: 0.0350\n",
      "Epoch 00015: early stopping\n",
      "CPU times: user 1min 27s, sys: 1min 15s, total: 2min 43s\n",
      "Wall time: 28.6 s\n"
     ]
    },
    {
     "data": {
      "text/plain": [
       "<tensorflow.python.keras.callbacks.History at 0x1d09c4a350>"
      ]
     },
     "execution_count": 656,
     "metadata": {},
     "output_type": "execute_result"
    }
   ],
   "source": [
    "%%time\n",
    "model.fit(x=generator,\n",
    "          epochs=20,\n",
    "          steps_per_epoch=100,\n",
    "          validation_data=validation_data,\n",
    "          callbacks=callbacks)"
   ]
  },
  {
   "cell_type": "code",
   "execution_count": 657,
   "metadata": {},
   "outputs": [
    {
     "name": "stdout",
     "output_type": "stream",
     "text": [
      "1/1 [==============================] - 0s 7ms/sample - loss: 0.0350\n"
     ]
    }
   ],
   "source": [
    "result = model.evaluate(x=np.expand_dims(x_test_scaled, axis=0),\n",
    "                        y=np.expand_dims(y_test_scaled, axis=0))\n",
    "if False:\n",
    "    for res, metric in zip(result, model.metrics_names):\n",
    "        print(\"{0}: {1:.3e}\".format(metric, res))"
   ]
  },
  {
   "cell_type": "code",
   "execution_count": null,
   "metadata": {},
   "outputs": [],
   "source": []
  },
  {
   "cell_type": "markdown",
   "metadata": {},
   "source": [
    "## 8. Comparison and plot"
   ]
  },
  {
   "cell_type": "code",
   "execution_count": 658,
   "metadata": {},
   "outputs": [
    {
     "name": "stdout",
     "output_type": "stream",
     "text": [
      "Forecast Accuracy of: new_cases\n",
      "mape   :  2.8079\n",
      "mae    :  905.2761\n",
      "mpe    :  -1.4851\n",
      "rmse   :  1004.4068\n"
     ]
    },
    {
     "data": {
      "image/png": "[encoded data removed]",
      "text/plain": [
       "<Figure size 720x576 with 1 Axes>"
      ]
     },
     "metadata": {
      "needs_background": "light"
     },
     "output_type": "display_data"
    }
   ],
   "source": [
    "def plot_comparison(start_idx, length=100):\n",
    "    def adjust(val, length= 6): return str(val).ljust(length)\n",
    "    \"\"\"\n",
    "    Plot the predicted and true output-signals.\n",
    "    \n",
    "    :param start_idx: Start-index for the time-series.\n",
    "    :param length: Sequence-length to process and plot.\n",
    "    :param train: Boolean whether to use training- or test-set.\n",
    "    \"\"\"\n",
    "    \n",
    "    x1 = x_train_scaled\n",
    "    y_true1 = y_train\n",
    "    x2 = x_test_scaled\n",
    "    y_true2 = y_test\n",
    "    # End-index for the sequences.\n",
    "    end_idx = start_idx + length\n",
    "    \n",
    "    # Input-signals for the model.\n",
    "    x1 = np.expand_dims(x1, axis=0)\n",
    "    x2 = np.expand_dims(x2, axis=0)\n",
    "\n",
    "    # Use the model to predict the output-signals.\n",
    "    y_pred1 = model.predict(x1)\n",
    "    y_pred2 = model.predict(x2)\n",
    "    \n",
    "    # The output of the model is between 0 and 1.\n",
    "    # Do an inverse map to get it back to the scale\n",
    "    # of the original data-set.\n",
    "    y_pred_rescaled1 = y_scaler.inverse_transform(y_pred1[0])\n",
    "    y_pred_rescaled2 = y_scaler.inverse_transform(y_pred2[0])\n",
    "    \n",
    "    # For each output-signal.\n",
    "    for signal in range(len(target_names)):\n",
    "        # Get the output-signal predicted by the model.\n",
    "        signal_pred1 = y_pred_rescaled1[:, signal]\n",
    "        signal_pred2 = y_pred_rescaled2[:, signal]\n",
    "        \n",
    "        # Get the true output-signal from the data-set.\n",
    "        signal_true1 = y_true1[:, signal]\n",
    "        signal_true2 = y_true2[:, signal]\n",
    "\n",
    "        # Make the plotting-canvas bigger.\n",
    "        plt.figure(figsize=(10,8))\n",
    "        #print(type(signal_true1))\n",
    "        signal_true=np.append(signal_true1,signal_true2)\n",
    "        #print(signal_true1)\n",
    "        x = np.arange(len(signal_true1),len(signal_true1)+len(signal_true2),1)  \n",
    "        # Plot and compare the two signals.\n",
    "        plt.plot(signal_true, label='true',color=\"orange\")\n",
    "        plt.plot(signal_pred1, label='pred_train',color=\"blue\")\n",
    "        #plt.plot(x,signal_true2, label='true_test',color=\"orange\")\n",
    "        signal_2=[732, 647,506,439,471,488,398,298,200]\n",
    "        signal_3=[828.29469027, 755.19547283, 562.71102491, 502.12047018, 436.77218798,544.44769629, 532.20588431, 522.5428247,  417.29499168]\n",
    "        plt.plot(x,signal_pred2, label='pred_test',color='green')\n",
    "\n",
    "        # Plot grey box for warmup-period.\n",
    "        p = plt.axvspan(49, 59, facecolor='black', alpha=0.08)\n",
    "        \n",
    "        # Plot labels etc.\n",
    "        plt.ylabel(target_names[signal])\n",
    "        plt.legend()\n",
    "        print('Forecast Accuracy of: new_cases')\n",
    "        accuracy_prod = forecast_accuracy(signal_true2, signal_pred2)\n",
    "        for k, v in accuracy_prod.items():\n",
    "            print(adjust(k), ': ', round(v,4))\n",
    "        #plt.show()\n",
    "        plt.savefig('Germany.png', bbox_inches=\"tight\")\n",
    "plot_comparison(0, length=100)"
   ]
  },
  {
   "cell_type": "code",
   "execution_count": 343,
   "metadata": {},
   "outputs": [
    {
     "name": "stdout",
     "output_type": "stream",
     "text": [
      "Forecast Accuracy of: new_cases\n"
     ]
    },
    {
     "ename": "NameError",
     "evalue": "name 'signal_true2' is not defined",
     "output_type": "error",
     "traceback": [
      "\u001b[0;31m---------------------------------------------------------------------------\u001b[0m",
      "\u001b[0;31mNameError\u001b[0m                                 Traceback (most recent call last)",
      "\u001b[0;32m<ipython-input-343-394f9e6d1f80>\u001b[0m in \u001b[0;36m<module>\u001b[0;34m\u001b[0m\n\u001b[1;32m     19\u001b[0m \u001b[0;34m\u001b[0m\u001b[0m\n\u001b[1;32m     20\u001b[0m \u001b[0mprint\u001b[0m\u001b[0;34m(\u001b[0m\u001b[0;34m'Forecast Accuracy of: new_cases'\u001b[0m\u001b[0;34m)\u001b[0m\u001b[0;34m\u001b[0m\u001b[0;34m\u001b[0m\u001b[0m\n\u001b[0;32m---> 21\u001b[0;31m \u001b[0maccuracy_prod\u001b[0m \u001b[0;34m=\u001b[0m \u001b[0mforecast_accuracy\u001b[0m\u001b[0;34m(\u001b[0m\u001b[0msignal_true2\u001b[0m\u001b[0;34m,\u001b[0m \u001b[0msignal_pred2\u001b[0m\u001b[0;34m)\u001b[0m\u001b[0;34m\u001b[0m\u001b[0;34m\u001b[0m\u001b[0m\n\u001b[0m\u001b[1;32m     22\u001b[0m \u001b[0;32mfor\u001b[0m \u001b[0mk\u001b[0m\u001b[0;34m,\u001b[0m \u001b[0mv\u001b[0m \u001b[0;32min\u001b[0m \u001b[0maccuracy_prod\u001b[0m\u001b[0;34m.\u001b[0m\u001b[0mitems\u001b[0m\u001b[0;34m(\u001b[0m\u001b[0;34m)\u001b[0m\u001b[0;34m:\u001b[0m\u001b[0;34m\u001b[0m\u001b[0;34m\u001b[0m\u001b[0m\n\u001b[1;32m     23\u001b[0m     \u001b[0mprint\u001b[0m\u001b[0;34m(\u001b[0m\u001b[0madjust\u001b[0m\u001b[0;34m(\u001b[0m\u001b[0mk\u001b[0m\u001b[0;34m)\u001b[0m\u001b[0;34m,\u001b[0m \u001b[0;34m': '\u001b[0m\u001b[0;34m,\u001b[0m \u001b[0mround\u001b[0m\u001b[0;34m(\u001b[0m\u001b[0mv\u001b[0m\u001b[0;34m,\u001b[0m\u001b[0;36m4\u001b[0m\u001b[0;34m)\u001b[0m\u001b[0;34m)\u001b[0m\u001b[0;34m\u001b[0m\u001b[0;34m\u001b[0m\u001b[0m\n",
      "\u001b[0;31mNameError\u001b[0m: name 'signal_true2' is not defined"
     ]
    }
   ],
   "source": [
    "from statsmodels.tsa.stattools import acf\n",
    "def forecast_accuracy(forecast, actual):\n",
    "    mape = np.mean(np.abs(forecast - actual)/np.abs(actual))  # MAPE\n",
    "    #me = np.mean(forecast - actual)             # ME\n",
    "    mae = np.mean(np.abs(forecast - actual))    # MAE\n",
    "    mpe = np.mean((forecast - actual)/actual)   # MPE\n",
    "    rmse = np.mean((forecast - actual)**2)**.5  # RMSE\n",
    "    #corr = np.corrcoef(forecast, actual)[0,1]   # corr\n",
    "    #mins = np.amin(np.hstack([forecast[:,None], \n",
    "#                               actual[:,None]]), axis=1)\n",
    "#     #maxs = np.amax(np.hstack([forecast[:,None], \n",
    "#                               actual[:,None]]), axis=1)\n",
    "    #minmax = 1 - np.mean(mins/maxs)             # minmax\n",
    "    return({'mape':mape, 'mae': mae,\n",
    "            'mpe': mpe, 'rmse':rmse})\n",
    "\n",
    "#     return({'mape':mape, 'me':me, 'mae': mae, \n",
    "#             'mpe': mpe, 'rmse':rmse, 'corr':corr, 'minmax':minmax})\n",
    "\n",
    "\n",
    "\n",
    "# print('\\nForecast Accuracy of: driving')\n",
    "# accuracy_prod = forecast_accuracy(df_results['driving_forecast'].values, df_test['driving'])\n",
    "# for k, v in accuracy_prod.items():\n",
    "#     print(adjust(k), ': ', round(v,4))\n",
    "\n",
    "# print('\\nForecast Accuracy of: transit')\n",
    "# accuracy_prod = forecast_accuracy(df_results['transit_forecast'].values, df_test['transit'])\n",
    "# for k, v in accuracy_prod.items():\n",
    "#     print(adjust(k), ': ', round(v,4))\n",
    "\n",
    "# print('\\nForecast Accuracy of: walking')\n",
    "# accuracy_prod = forecast_accuracy(df_results['walking_forecast'].values, df_test['walking'])\n",
    "# for k, v in accuracy_prod.items():\n",
    "#     print(adjust(k), ': ', round(v,4))\n",
    "\n"
   ]
  },
  {
   "cell_type": "code",
   "execution_count": null,
   "metadata": {},
   "outputs": [],
   "source": []
  }
 ],
 "metadata": {
  "kernelspec": {
   "display_name": "Python 3",
   "language": "python",
   "name": "python3"
  },
  "language_info": {
   "codemirror_mode": {
    "name": "ipython",
    "version": 3
   },
   "file_extension": ".py",
   "mimetype": "text/x-python",
   "name": "python",
   "nbconvert_exporter": "python",
   "pygments_lexer": "ipython3",
   "version": "3.7.4"
  }
 },
 "nbformat": 4,
 "nbformat_minor": 4
}
